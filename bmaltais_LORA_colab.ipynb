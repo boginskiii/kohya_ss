{
  "nbformat": 4,
  "nbformat_minor": 0,
  "metadata": {
    "colab": {
      "provenance": [],
      "gpuType": "T4",
      "authorship_tag": "ABX9TyMsvmRfyVMXnWtw1LtYWef+",
      "include_colab_link": true
    },
    "kernelspec": {
      "name": "python3",
      "display_name": "Python 3"
    },
    "language_info": {
      "name": "python"
    },
    "accelerator": "GPU"
  },
  "cells": [
    {
      "cell_type": "markdown",
      "metadata": {
        "id": "view-in-github",
        "colab_type": "text"
      },
      "source": [
        "<a href=\"https://colab.research.google.com/github/boginskiii/kohya_ss/blob/master/bmaltais_LORA_colab.ipynb\" target=\"_parent\"><img src=\"https://colab.research.google.com/assets/colab-badge.svg\" alt=\"Open In Colab\"/></a>"
      ]
    },
    {
      "cell_type": "code",
      "execution_count": null,
      "metadata": {
        "cellView": "form",
        "id": "NJHhOrOrYKhX"
      },
      "outputs": [],
      "source": [
        "#@markdown #Step 1️⃣: Mounting Google Drive\n",
        "\n",
        "from google.colab import drive\n",
        "drive.mount('/content/gdrive')"
      ]
    },
    {
      "cell_type": "code",
      "source": [
        "#@markdown #Step 2️⃣: Kohya SS WebUI Installation\n",
        "\n",
        "#@markdown Note: If Google Drive is not connected, the code will use Colab storage instead.\n",
        "\n",
        "#@title\n",
        "# Import necessary libraries\n",
        "from IPython.display import clear_output\n",
        "from IPython.utils import capture\n",
        "from subprocess import getoutput\n",
        "import ipywidgets as widgets\n",
        "import sys\n",
        "import fileinput\n",
        "import os\n",
        "import time\n",
        "import shutil\n",
        "\n",
        "# Remove OLD WebUI Installation\n",
        "shutil.rmtree('/content/gdrive/MyDrive/sd', ignore_errors=True)\n",
        "\n",
        "# WebUI Installation\n",
        "%env TF_CPP_MIN_LOG_LEVEL=1\n",
        "\n",
        "!apt -y update -qq\n",
        "!wget http://launchpadlibrarian.net/367274644/libgoogle-perftools-dev_2.5-2.2ubuntu3_amd64.deb\n",
        "!wget https://launchpad.net/ubuntu/+source/google-perftools/2.5-2.2ubuntu3/+build/14795286/+files/google-perftools_2.5-2.2ubuntu3_all.deb\n",
        "!wget https://launchpad.net/ubuntu/+source/google-perftools/2.5-2.2ubuntu3/+build/14795286/+files/libtcmalloc-minimal4_2.5-2.2ubuntu3_amd64.deb\n",
        "!wget https://launchpad.net/ubuntu/+source/google-perftools/2.5-2.2ubuntu3/+build/14795286/+files/libgoogle-perftools4_2.5-2.2ubuntu3_amd64.deb\n",
        "!apt install -qq libunwind8-dev\n",
        "!dpkg -i *.deb\n",
        "%env LD_PRELOAD=libtcmalloc.so\n",
        "!rm *.deb\n",
        "\n",
        "# Check if Google Drive is connected\n",
        "if not os.path.exists(\"/content/gdrive/MyDrive/\"):\n",
        "    print(\"Gdrive not connected, using colab storage ...\")\n",
        "    time.sleep(4)\n",
        "    !mkdir -p /content/gdrive/MyDrive/\n",
        "\n",
        "# Clone the repository and create necessary directories\n",
        "with capture.capture_output() as cap:\n",
        "    def inf(msg, style, wdth):\n",
        "        inf = widgets.Button(description=msg, disabled=True, button_style=style, layout=widgets.Layout(min_width=wdth))\n",
        "        display(inf)\n",
        "\n",
        "    %mkdir -p /content/gdrive/MyDrive/sd\n",
        "    %cd /content/gdrive/MyDrive/sd\n",
        "    !git clone https://github.com/boginskiii/kohya_ss kohya_ss_colab\n",
        "    !mkdir -p /content/gdrive/MyDrive/sd/kohya_ss_colab/cache/huggingface\n",
        "    !ln -s /content/gdrive/MyDrive/sd/kohya_ss_colab/cache/huggingface /root/.cache/\n",
        "\n",
        "# Reset the git repository and pull the latest changes\n",
        "with capture.capture_output() as cap:\n",
        "    %cd /content/gdrive/MyDrive/sd/kohya_ss_colab/\n",
        "    !git reset --hard\n",
        "    time.sleep(1)\n",
        "\n",
        "print(\"Updating the repository...\")\n",
        "!git pull\n",
        "\n",
        "# Clear the output and display the success message\n",
        "clear_output()\n",
        "inf(\"✓ Done\", \"success\", \"50px\")"
      ],
      "metadata": {
        "cellView": "form",
        "id": "Wr3_bNcuYQSh"
      },
      "execution_count": null,
      "outputs": []
    },
    {
      "cell_type": "code",
      "source": [
        "#@markdown #Step 3️⃣: Requirements Installation\n",
        "\n",
        "#@markdown Now that we have downloaded the Kohya SS WebUI, we need to install the necessary requirements.\n",
        "\n",
        "# Print the status message\n",
        "print(\"Installing requirements...\")\n",
        "\n",
        "# Change the working directory to the project folder\n",
        "%cd /content/gdrive/MyDrive/sd/kohya_ss_colab/\n",
        "\n",
        "# Install the requirements\n",
        "with capture.capture_output() as cap:\n",
        "    # Uncomment the following line if you need to install specific versions of torch and torchvision\n",
        "    !pip install torch==2.0.0+cu118 torchvision==0.15.1+cu118 --extra-index-url https://download.pytorch.org/whl/cu118\n",
        "    !pip install xformers==0.0.19\n",
        "\n",
        "    # Install the requirements from the requirements.txt file\n",
        "    !pip install -r requirements.txt\n",
        "\n",
        "\n",
        "# Clear the output to keep the notebook clean\n",
        "clear_output()\n",
        "\n",
        "# Print the success message\n",
        "inf(\"✓ Done\", \"success\", \"50px\")"
      ],
      "metadata": {
        "cellView": "form",
        "id": "BmWfN6imZA_k"
      },
      "execution_count": null,
      "outputs": []
    },
    {
      "cell_type": "code",
      "source": [
        "#@markdown #Optional🛠️: Download File or PreTrained Model\n",
        "PreTrained_Model = \"\"  # @param {'type': 'string'}\n",
        "!wget --content-disposition $PreTrained_Model"
      ],
      "metadata": {
        "cellView": "form",
        "id": "G8Un2xTEZOpK"
      },
      "execution_count": null,
      "outputs": []
    },
    {
      "cell_type": "code",
      "source": [
        "#@markdown #Step 4️⃣: Start Kohya ss WebUI\n",
        "\n",
        "User = \"\" #@param {type:\"string\"}\n",
        "Password = \"\" #@param {type:\"string\"}\n",
        "\n",
        "\n",
        "if User and Password:\n",
        "    # Run the Kohya GUI with the provided credentials\n",
        "    !python /content/gdrive/MyDrive/sd/kohya_ss_colab/kohya_gui.py --username $User --password $Password --share --headless\n",
        "else:\n",
        "    # Run the Kohya GUI without credentials\n",
        "    !python /content/gdrive/MyDrive/sd/kohya_ss_colab/kohya_gui.py --share --headless"
      ],
      "metadata": {
        "cellView": "form",
        "id": "3dKo-KICZYs9"
      },
      "execution_count": null,
      "outputs": []
    }
  ]
}